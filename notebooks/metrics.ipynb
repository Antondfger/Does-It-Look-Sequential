{
 "cells": [
  {
   "cell_type": "code",
   "execution_count": 1,
   "metadata": {},
   "outputs": [],
   "source": [
    "import sys \n",
    "sys.path.append('../')\n",
    "\n",
    "import os\n",
    "\n",
    "PATH_METRICS_BY_USER = os.environ['METRICS_BY_USER_DATA_PATH']\n",
    "\n",
    "PATH_TO_TEST_DATA = os.environ['SPLIT_DATA_PATH']"
   ]
  },
  {
   "cell_type": "code",
   "execution_count": 2,
   "metadata": {},
   "outputs": [],
   "source": [
    "import pandas as pd\n",
    "import numpy as np\n",
    "from replay.metrics import NDCG\n",
    "from replay.metrics import PerUser\n",
    "from clearml import Task\n",
    "from preprocessing.preparation import get_last_item"
   ]
  },
  {
   "cell_type": "code",
   "execution_count": null,
   "metadata": {},
   "outputs": [],
   "source": [
    "TASK_ID = 'task id of the experiments in clearml.'"
   ]
  },
  {
   "cell_type": "code",
   "execution_count": 3,
   "metadata": {},
   "outputs": [],
   "source": [
    "Sports_true = pd.read_csv(PATH_TO_TEST_DATA + 'test_Sports.csv')\n",
    "Sports_shuffle = pd.read_csv(Task.get_task(task_id=TASK_ID).artifacts['shuffle_pred.csv'].get_local_copy())\n",
    "Sports_origin = pd.read_csv(Task.get_task(task_id=TASK_ID).artifacts['test_pred.csv'].get_local_copy())"
   ]
  },
  {
   "cell_type": "code",
   "execution_count": 4,
   "metadata": {},
   "outputs": [],
   "source": [
    "metrics = pd.DataFrame()\n",
    "metrics['ndcg'] = NDCG(topk=10, query_column='user_id', mode=PerUser, rating_column='prediction')(Sports_shuffle, get_last_item(Sports_true))['NDCG-PerUser@10'].values()\n",
    "metrics.to_csv(PATH_METRICS_BY_USER + 'ndcg_Sports_shuffle.csv', index=False)"
   ]
  },
  {
   "cell_type": "code",
   "execution_count": 5,
   "metadata": {},
   "outputs": [],
   "source": [
    "metrics = pd.DataFrame()\n",
    "metrics['ndcg'] = NDCG(topk=10, query_column='user_id', mode=PerUser, rating_column='prediction')(Sports_origin, get_last_item(Sports_true))['NDCG-PerUser@10'].values()\n",
    "metrics.to_csv(PATH_METRICS_BY_USER + 'ndcg_Sports_origin.csv', index=False)"
   ]
  },
  {
   "cell_type": "code",
   "execution_count": 6,
   "metadata": {},
   "outputs": [],
   "source": [
    "Foursquare_true = pd.read_csv(PATH_TO_TEST_DATA + 'test_Foursquare.csv')\n",
    "Foursquare_shuffle = pd.read_csv(Task.get_task(task_id=TASK_ID).artifacts['shuffle_pred.csv'].get_local_copy())\n",
    "Foursquare_origin = pd.read_csv(Task.get_task(task_id=TASK_ID).artifacts['test_pred.csv'].get_local_copy())"
   ]
  },
  {
   "cell_type": "code",
   "execution_count": 7,
   "metadata": {},
   "outputs": [],
   "source": [
    "metrics = pd.DataFrame()\n",
    "metrics['ndcg'] = NDCG(topk=10, query_column='user_id', mode=PerUser, rating_column='prediction')(Foursquare_shuffle, get_last_item(Foursquare_true))['NDCG-PerUser@10'].values()\n",
    "metrics.to_csv(PATH_METRICS_BY_USER + 'ndcg_Foursquare_shuffle.csv', index=False)"
   ]
  },
  {
   "cell_type": "code",
   "execution_count": 8,
   "metadata": {},
   "outputs": [],
   "source": [
    "metrics = pd.DataFrame()\n",
    "metrics['ndcg'] = NDCG(topk=10, query_column='user_id', mode=PerUser, rating_column='prediction')(Foursquare_origin, get_last_item(Foursquare_true))['NDCG-PerUser@10'].values()\n",
    "metrics.to_csv(PATH_METRICS_BY_USER + 'ndcg_Foursquare_origin.csv', index=False)"
   ]
  },
  {
   "cell_type": "code",
   "execution_count": 9,
   "metadata": {},
   "outputs": [],
   "source": [
    "Diginetica_true = pd.read_csv(PATH_TO_TEST_DATA + 'test_Diginetica.csv')\n",
    "Diginetica_shuffle = pd.read_csv(Task.get_task(task_id=TASK_ID).artifacts['shuffle_pred.csv'].get_local_copy())\n",
    "Diginetica_origin = pd.read_csv(Task.get_task(task_id=TASK_ID).artifacts['test_pred.csv'].get_local_copy())"
   ]
  },
  {
   "cell_type": "code",
   "execution_count": 10,
   "metadata": {},
   "outputs": [],
   "source": [
    "metrics = pd.DataFrame()\n",
    "metrics['ndcg'] = NDCG(topk=10, query_column='user_id', mode=PerUser, rating_column='prediction')(Diginetica_shuffle, get_last_item(Diginetica_true))['NDCG-PerUser@10'].values()\n",
    "metrics.to_csv(PATH_METRICS_BY_USER + 'ndcg_Diginetica_shuffle.csv', index=False)"
   ]
  },
  {
   "cell_type": "code",
   "execution_count": 11,
   "metadata": {},
   "outputs": [],
   "source": [
    "metrics = pd.DataFrame()\n",
    "metrics['ndcg'] = NDCG(topk=10, query_column='user_id', mode=PerUser, rating_column='prediction')(Diginetica_origin, get_last_item(Diginetica_true))['NDCG-PerUser@10'].values()\n",
    "metrics.to_csv(PATH_METRICS_BY_USER + 'ndcg_Diginetica_origin.csv', index=False)"
   ]
  },
  {
   "cell_type": "code",
   "execution_count": 12,
   "metadata": {},
   "outputs": [],
   "source": [
    "Yelp_true = pd.read_csv(PATH_TO_TEST_DATA+'test_Yelp.csv')\n",
    "Yelp_shuffle = pd.read_csv(Task.get_task(task_id=TASK_ID).artifacts['shuffle_pred.csv'].get_local_copy())\n",
    "Yelp_origin = pd.read_csv(Task.get_task(task_id=TASK_ID).artifacts['test_pred.csv'].get_local_copy())"
   ]
  },
  {
   "cell_type": "code",
   "execution_count": 13,
   "metadata": {},
   "outputs": [],
   "source": [
    "metrics = pd.DataFrame()\n",
    "metrics['ndcg'] = NDCG(topk=10, query_column='user_id', mode=PerUser, rating_column='prediction')(Yelp_shuffle, get_last_item(Yelp_true))['NDCG-PerUser@10'].values()\n",
    "metrics.to_csv(PATH_METRICS_BY_USER + 'ndcg_Yelp_shuffle.csv', index=False)"
   ]
  },
  {
   "cell_type": "code",
   "execution_count": 14,
   "metadata": {},
   "outputs": [],
   "source": [
    "metrics = pd.DataFrame()\n",
    "metrics['ndcg'] = NDCG(topk=10, query_column='user_id', mode=PerUser, rating_column='prediction')(Yelp_origin, get_last_item(Yelp_true))['NDCG-PerUser@10'].values()\n",
    "metrics.to_csv(PATH_METRICS_BY_USER + 'ndcg_Yelp_origin.csv', index=False)"
   ]
  },
  {
   "cell_type": "code",
   "execution_count": 15,
   "metadata": {},
   "outputs": [],
   "source": [
    "Steam_true = pd.read_csv(PATH_TO_TEST_DATA + 'test_Steam.csv')\n",
    "Steam_shuffle = pd.read_csv(Task.get_task(task_id=TASK_ID).artifacts['shuffle_pred.csv'].get_local_copy())\n",
    "Steam_origin = pd.read_csv(Task.get_task(task_id=TASK_ID).artifacts['test_pred.csv'].get_local_copy())"
   ]
  },
  {
   "cell_type": "code",
   "execution_count": 16,
   "metadata": {},
   "outputs": [],
   "source": [
    "metrics = pd.DataFrame()\n",
    "metrics['ndcg'] = NDCG(topk=10, query_column='user_id', mode=PerUser, rating_column='prediction')(Steam_shuffle, get_last_item(Steam_true))['NDCG-PerUser@10'].values()\n",
    "metrics.to_csv(PATH_METRICS_BY_USER + 'ndcg_Steam_shuffle.csv', index=False)"
   ]
  },
  {
   "cell_type": "code",
   "execution_count": 17,
   "metadata": {},
   "outputs": [],
   "source": [
    "metrics = pd.DataFrame()\n",
    "metrics['ndcg'] = NDCG(topk=10, query_column='user_id', mode=PerUser, rating_column='prediction')(Steam_origin, get_last_item(Steam_true))['NDCG-PerUser@10'].values()\n",
    "metrics.to_csv(PATH_METRICS_BY_USER + 'ndcg_Steam_origin.csv', index=False)"
   ]
  },
  {
   "cell_type": "code",
   "execution_count": 18,
   "metadata": {},
   "outputs": [],
   "source": [
    "Yoochoose_true = pd.read_csv(PATH_TO_TEST_DATA + 'test_Yoochoose.csv')\n",
    "Yoochoose_shuffle = pd.read_csv(Task.get_task(task_id=TASK_ID).artifacts['shuffle_pred.csv'].get_local_copy())\n",
    "Yoochoose_origin = pd.read_csv(Task.get_task(task_id=TASK_ID).artifacts['test_pred.csv'].get_local_copy())"
   ]
  },
  {
   "cell_type": "code",
   "execution_count": 19,
   "metadata": {},
   "outputs": [],
   "source": [
    "metrics = pd.DataFrame()\n",
    "metrics['ndcg'] = NDCG(topk=10, query_column='user_id', mode=PerUser, rating_column='prediction')(Yoochoose_shuffle, get_last_item(Yoochoose_true))['NDCG-PerUser@10'].values()\n",
    "metrics.to_csv(PATH_METRICS_BY_USER + 'ndcg_Yoochoose_shuffle.csv', index=False)"
   ]
  },
  {
   "cell_type": "code",
   "execution_count": 20,
   "metadata": {},
   "outputs": [],
   "source": [
    "metrics = pd.DataFrame()\n",
    "metrics['ndcg'] = NDCG(topk=10, query_column='user_id', mode=PerUser, rating_column='prediction')(Yoochoose_origin, get_last_item(Yoochoose_true))['NDCG-PerUser@10'].values()\n",
    "metrics.to_csv(PATH_METRICS_BY_USER + 'ndcg_Yoochoose_origin.csv', index=False)"
   ]
  },
  {
   "cell_type": "code",
   "execution_count": 21,
   "metadata": {},
   "outputs": [],
   "source": [
    "Games_true = pd.read_csv(PATH_TO_TEST_DATA + 'test_Games.csv')\n",
    "Games_shuffle = pd.read_csv(Task.get_task(task_id=TASK_ID).artifacts['shuffle_pred.csv'].get_local_copy())\n",
    "Games_origin = pd.read_csv(Task.get_task(task_id=TASK_ID).artifacts['test_pred.csv'].get_local_copy())"
   ]
  },
  {
   "cell_type": "code",
   "execution_count": 22,
   "metadata": {},
   "outputs": [],
   "source": [
    "metrics = pd.DataFrame()\n",
    "metrics['ndcg'] = NDCG(topk=10, query_column='user_id', mode=PerUser, rating_column='prediction')(Games_shuffle, get_last_item(Games_true))['NDCG-PerUser@10'].values()\n",
    "metrics.to_csv(PATH_METRICS_BY_USER + 'ndcg_Games_shuffle.csv', index=False)"
   ]
  },
  {
   "cell_type": "code",
   "execution_count": 23,
   "metadata": {},
   "outputs": [],
   "source": [
    "metrics = pd.DataFrame()\n",
    "metrics['ndcg'] = NDCG(topk=10, query_column='user_id', mode=PerUser, rating_column='prediction')(Games_origin, get_last_item(Games_true))['NDCG-PerUser@10'].values()\n",
    "metrics.to_csv(PATH_METRICS_BY_USER + 'ndcg_Games_origin.csv', index=False)"
   ]
  },
  {
   "cell_type": "code",
   "execution_count": 24,
   "metadata": {},
   "outputs": [],
   "source": [
    "Beauty_true = pd.read_csv(PATH_TO_TEST_DATA + 'test_Beauty.csv')\n",
    "Beauty_shuffle = pd.read_csv(Task.get_task(task_id=TASK_ID).artifacts['shuffle_pred.csv'].get_local_copy())\n",
    "Beauty_origin = pd.read_csv(Task.get_task(task_id=TASK_ID).artifacts['test_pred.csv'].get_local_copy())"
   ]
  },
  {
   "cell_type": "code",
   "execution_count": 25,
   "metadata": {},
   "outputs": [],
   "source": [
    "metrics = pd.DataFrame()\n",
    "metrics['ndcg'] = NDCG(topk=10, query_column='user_id', mode=PerUser, rating_column='prediction')(Beauty_shuffle, get_last_item(Beauty_true))['NDCG-PerUser@10'].values()\n",
    "metrics.to_csv(PATH_METRICS_BY_USER + 'ndcg_Beauty_shuffle.csv', index=False)"
   ]
  },
  {
   "cell_type": "code",
   "execution_count": 26,
   "metadata": {},
   "outputs": [],
   "source": [
    "metrics = pd.DataFrame()\n",
    "metrics['ndcg'] = NDCG(topk=10, query_column='user_id', mode=PerUser, rating_column='prediction')(Beauty_origin, get_last_item(Beauty_true))['NDCG-PerUser@10'].values()\n",
    "metrics.to_csv(PATH_METRICS_BY_USER + 'ndcg_Beauty_origin.csv', index=False)"
   ]
  },
  {
   "cell_type": "code",
   "execution_count": 27,
   "metadata": {},
   "outputs": [],
   "source": [
    "Movielens_true = pd.read_csv(PATH_TO_TEST_DATA + 'test_Movielens-20.csv')\n",
    "Movielens_shuffle = pd.read_csv(Task.get_task(task_id=TASK_ID).artifacts['shuffle_pred.csv'].get_local_copy())\n",
    "Movielens_origin = pd.read_csv(Task.get_task(task_id=TASK_ID).artifacts['test_pred.csv'].get_local_copy())"
   ]
  },
  {
   "cell_type": "code",
   "execution_count": 28,
   "metadata": {},
   "outputs": [],
   "source": [
    "metrics = pd.DataFrame()\n",
    "metrics['ndcg'] = NDCG(topk=10, query_column='user_id', mode=PerUser, rating_column='prediction')(Movielens_shuffle, get_last_item(Movielens_true))['NDCG-PerUser@10'].values()\n",
    "metrics.to_csv(PATH_METRICS_BY_USER + 'ndcg_Movielens-20_shuffle.csv', index=False)"
   ]
  },
  {
   "cell_type": "code",
   "execution_count": 29,
   "metadata": {},
   "outputs": [],
   "source": [
    "metrics = pd.DataFrame()\n",
    "metrics['ndcg'] = NDCG(topk=10, query_column='user_id', mode=PerUser, rating_column='prediction')(Movielens_origin, get_last_item(Movielens_true))['NDCG-PerUser@10'].values()\n",
    "metrics.to_csv(PATH_METRICS_BY_USER + 'ndcg_Movielens-20_origin.csv', index=False)"
   ]
  },
  {
   "cell_type": "code",
   "execution_count": 30,
   "metadata": {},
   "outputs": [],
   "source": [
    "Gowalla_true = pd.read_csv(PATH_TO_TEST_DATA + 'test_Gowalla.csv')\n",
    "Gowalla_shuffle = pd.read_csv(Task.get_task(task_id=TASK_ID).artifacts['shuffle_pred.csv'].get_local_copy())\n",
    "Gowalla_origin = pd.read_csv(Task.get_task(task_id=TASK_ID).artifacts['test_pred.csv'].get_local_copy())"
   ]
  },
  {
   "cell_type": "code",
   "execution_count": 31,
   "metadata": {},
   "outputs": [],
   "source": [
    "metrics = pd.DataFrame()\n",
    "metrics['ndcg'] = NDCG(topk=10, query_column='user_id', mode=PerUser, rating_column='prediction')(Gowalla_shuffle, get_last_item(Gowalla_true))['NDCG-PerUser@10'].values()\n",
    "metrics.to_csv(PATH_METRICS_BY_USER + 'ndcg_Gowalla_shuffle.csv', index=False)"
   ]
  },
  {
   "cell_type": "code",
   "execution_count": 32,
   "metadata": {},
   "outputs": [],
   "source": [
    "metrics = pd.DataFrame()\n",
    "metrics['ndcg'] = NDCG(topk=10, query_column='user_id', mode=PerUser, rating_column='prediction')(Gowalla_origin, get_last_item(Gowalla_true))['NDCG-PerUser@10'].values()\n",
    "metrics.to_csv(PATH_METRICS_BY_USER + 'ndcg_Gowalla_origin.csv', index=False)"
   ]
  },
  {
   "cell_type": "code",
   "execution_count": 33,
   "metadata": {},
   "outputs": [],
   "source": [
    "Retailrocket_true = pd.read_csv(PATH_TO_TEST_DATA + 'test_Retailrocket.csv')\n",
    "Retailrocket_shuffle = pd.read_csv(Task.get_task(task_id=TASK_ID).artifacts['shuffle_pred.csv'].get_local_copy())\n",
    "Retailrocket_origin = pd.read_csv(Task.get_task(task_id=TASK_ID).artifacts['test_pred.csv'].get_local_copy())"
   ]
  },
  {
   "cell_type": "code",
   "execution_count": 34,
   "metadata": {},
   "outputs": [],
   "source": [
    "metrics = pd.DataFrame()\n",
    "metrics['ndcg'] = NDCG(topk=10, query_column='user_id', mode=PerUser, rating_column='prediction')(Retailrocket_shuffle, get_last_item(Retailrocket_true))['NDCG-PerUser@10'].values()\n",
    "metrics.to_csv(PATH_METRICS_BY_USER + 'ndcg_Retailrocket_shuffle.csv', index=False)"
   ]
  },
  {
   "cell_type": "code",
   "execution_count": 35,
   "metadata": {},
   "outputs": [],
   "source": [
    "metrics = pd.DataFrame()\n",
    "metrics['ndcg'] = NDCG(topk=10, query_column='user_id', mode=PerUser, rating_column='prediction')(Retailrocket_origin, get_last_item(Retailrocket_true))['NDCG-PerUser@10'].values()\n",
    "metrics.to_csv(PATH_METRICS_BY_USER + 'ndcg_Retailrocket_origin.csv', index=False)"
   ]
  },
  {
   "cell_type": "code",
   "execution_count": 36,
   "metadata": {},
   "outputs": [],
   "source": [
    "SMM_true = pd.read_csv(PATH_TO_TEST_DATA + 'test_Smm.csv')\n",
    "SMM_shuffle = pd.read_csv(Task.get_task(task_id=TASK_ID).artifacts['shuffle_pred.csv'].get_local_copy())\n",
    "SMM_origin = pd.read_csv(Task.get_task(task_id=TASK_ID).artifacts['test_pred.csv'].get_local_copy())"
   ]
  },
  {
   "cell_type": "code",
   "execution_count": 37,
   "metadata": {},
   "outputs": [],
   "source": [
    "metrics = pd.DataFrame()\n",
    "metrics['ndcg'] = NDCG(topk=10, query_column='user_id', mode=PerUser, rating_column='prediction')(SMM_shuffle, get_last_item(SMM_true))['NDCG-PerUser@10'].values()\n",
    "metrics.to_csv(PATH_METRICS_BY_USER + '/ndcg_Smm_shuffle.csv', index=False)"
   ]
  },
  {
   "cell_type": "code",
   "execution_count": 38,
   "metadata": {},
   "outputs": [],
   "source": [
    "metrics = pd.DataFrame()\n",
    "metrics['ndcg'] = NDCG(topk=10, query_column='user_id', mode=PerUser, rating_column='prediction')(SMM_origin, get_last_item(SMM_true))['NDCG-PerUser@10'].values()\n",
    "metrics.to_csv(PATH_METRICS_BY_USER + '/ndcg_Smm_origin.csv', index=False)"
   ]
  },
  {
   "cell_type": "code",
   "execution_count": 39,
   "metadata": {},
   "outputs": [],
   "source": [
    "Zvuk_true = pd.read_csv(PATH_TO_TEST_DATA + 'test_Zvuk.csv')\n",
    "Zvuk_shuffle = pd.read_csv(Task.get_task(task_id=TASK_ID).artifacts['shuffle_pred.csv'].get_local_copy())\n",
    "Zvuk_origin = pd.read_csv(Task.get_task(task_id=TASK_ID).artifacts['test_pred.csv'].get_local_copy())"
   ]
  },
  {
   "cell_type": "code",
   "execution_count": 40,
   "metadata": {},
   "outputs": [],
   "source": [
    "metrics = pd.DataFrame()\n",
    "metrics['ndcg'] = NDCG(topk=10, query_column='user_id', mode=PerUser, rating_column='prediction')(Zvuk_shuffle, get_last_item(Zvuk_true))['NDCG-PerUser@10'].values()\n",
    "metrics.to_csv(PATH_METRICS_BY_USER + 'ndcg_Zvuk_shuffle.csv', index=False)"
   ]
  },
  {
   "cell_type": "code",
   "execution_count": 41,
   "metadata": {},
   "outputs": [],
   "source": [
    "metrics = pd.DataFrame()\n",
    "metrics['ndcg'] = NDCG(topk=10, query_column='user_id', mode=PerUser, rating_column='prediction')(Zvuk_origin, get_last_item(Zvuk_true))['NDCG-PerUser@10'].values()\n",
    "metrics.to_csv(PATH_METRICS_BY_USER + 'ndcg_Zvuk_origin.csv', index=False)"
   ]
  },
  {
   "cell_type": "code",
   "execution_count": 42,
   "metadata": {},
   "outputs": [],
   "source": [
    "music_true = pd.read_csv(PATH_TO_TEST_DATA + 'test_30Music.csv')\n",
    "music_shuffle = pd.read_csv(Task.get_task(task_id=TASK_ID).artifacts['shuffle_pred.csv'].get_local_copy())\n",
    "music_origin = pd.read_csv(Task.get_task(task_id=TASK_ID).artifacts['test_pred.csv'].get_local_copy())"
   ]
  },
  {
   "cell_type": "code",
   "execution_count": 43,
   "metadata": {},
   "outputs": [],
   "source": [
    "metrics = pd.DataFrame()\n",
    "metrics['ndcg'] = NDCG(topk=10, query_column='user_id', mode=PerUser, rating_column='prediction')(music_shuffle, get_last_item(music_true))['NDCG-PerUser@10'].values()\n",
    "metrics.to_csv(PATH_METRICS_BY_USER + 'ndcg_30Music_shuffle.csv', index=False)"
   ]
  },
  {
   "cell_type": "code",
   "execution_count": 44,
   "metadata": {},
   "outputs": [],
   "source": [
    "metrics = pd.DataFrame()\n",
    "metrics['ndcg'] = NDCG(topk=10, query_column='user_id', mode=PerUser, rating_column='prediction')(music_origin, get_last_item(music_true))['NDCG-PerUser@10'].values()\n",
    "metrics.to_csv(PATH_METRICS_BY_USER + 'ndcg_30Music_origin.csv', index=False)"
   ]
  },
  {
   "cell_type": "code",
   "execution_count": 45,
   "metadata": {},
   "outputs": [],
   "source": [
    "Otto_true = pd.read_csv(PATH_TO_TEST_DATA + 'test_Otto.csv')\n",
    "Otto_shuffle = pd.read_csv(Task.get_task(task_id=TASK_ID).artifacts['shuffle_pred.csv'].get_local_copy())\n",
    "Otto_origin = pd.read_csv(Task.get_task(task_id=TASK_ID).artifacts['test_pred.csv'].get_local_copy())"
   ]
  },
  {
   "cell_type": "code",
   "execution_count": 46,
   "metadata": {},
   "outputs": [],
   "source": [
    "metrics = pd.DataFrame()\n",
    "metrics['ndcg'] = NDCG(topk=10, query_column='user_id', mode=PerUser, rating_column='prediction')(Otto_shuffle, get_last_item(Otto_true))['NDCG-PerUser@10'].values()\n",
    "metrics.to_csv(PATH_METRICS_BY_USER + 'ndcg_Otto_shuffle.csv', index=False)"
   ]
  },
  {
   "cell_type": "code",
   "execution_count": 47,
   "metadata": {},
   "outputs": [],
   "source": [
    "metrics = pd.DataFrame()\n",
    "metrics['ndcg'] = NDCG(topk=10, query_column='user_id', mode=PerUser, rating_column='prediction')(Otto_origin, get_last_item(Otto_true))['NDCG-PerUser@10'].values()\n",
    "metrics.to_csv(PATH_METRICS_BY_USER + 'ndcg_Otto_origin.csv', index=False)"
   ]
  }
 ],
 "metadata": {
  "kernelspec": {
   "display_name": "py39",
   "language": "python",
   "name": "python3"
  },
  "language_info": {
   "codemirror_mode": {
    "name": "ipython",
    "version": 3
   },
   "file_extension": ".py",
   "mimetype": "text/x-python",
   "name": "python",
   "nbconvert_exporter": "python",
   "pygments_lexer": "ipython3",
   "version": "3.9.19"
  },
  "orig_nbformat": 4
 },
 "nbformat": 4,
 "nbformat_minor": 2
}
