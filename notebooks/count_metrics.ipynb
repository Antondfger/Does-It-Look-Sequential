{
 "cells": [
  {
   "cell_type": "code",
   "execution_count": 6,
   "metadata": {},
   "outputs": [],
   "source": [
    "import sys \n",
    "sys.path.append('../')\n",
    "\n",
    "import os\n",
    "\n",
    "PATH_METRICS_BY_USER = os.environ['METRICS_BY_USER_DATA_PATH']\n",
    "\n",
    "PATH_TO_TEST_DATA = os.environ['SPLIT_DATA_PATH']"
   ]
  },
  {
   "cell_type": "code",
   "execution_count": 7,
   "metadata": {},
   "outputs": [],
   "source": [
    "import pandas as pd\n",
    "import numpy as np\n",
    "from replay.metrics import NDCG, HitRate\n",
    "from replay.metrics import PerUser\n",
    "from clearml import Task\n",
    "from preprocessing.preparation import get_last_item"
   ]
  },
  {
   "cell_type": "code",
   "execution_count": 8,
   "metadata": {},
   "outputs": [],
   "source": [
    "def get_user_metrics(task_id):\n",
    "    for task in task_id:\n",
    "        data_name = Task.get_task(task_id=task).get_parameters_as_dict()['General']['datasets_info']['name']\n",
    "        model = Task.get_task(task_id=task).get_parameters_as_dict()['General']['model']['model']\n",
    "        True_data = pd.read_csv(PATH_TO_TEST_DATA + f'test_{data_name}.csv')\n",
    "        Shuffle_data = pd.read_csv(Task.get_task(task_id=task).artifacts['shuffle_pred.csv'].get_local_copy())\n",
    "        Origin_data = pd.read_csv(Task.get_task(task_id=task).artifacts['test_pred.csv'].get_local_copy())\n",
    "        \n",
    "        metrics = pd.DataFrame()\n",
    "        metrics['ndcg'] = NDCG(topk=10, query_column='user_id', mode=PerUser, rating_column='prediction')(Shuffle_data, get_last_item(True_data))['NDCG-PerUser@10'].values()\n",
    "        metrics['hitrate'] = HitRate(topk=10, query_column='user_id', mode=PerUser, rating_column='prediction')(Shuffle_data, get_last_item(True_data))['HitRate-PerUser@10'].values()\n",
    "        metrics.to_csv(PATH_METRICS_BY_USER + f'{model}_{data_name}_shuffle.csv', index=False)\n",
    "        \n",
    "\n",
    "\n",
    "        metrics = pd.DataFrame()\n",
    "        metrics['ndcg'] = NDCG(topk=10, query_column='user_id', mode=PerUser, rating_column='prediction')(Origin_data, get_last_item(True_data))['NDCG-PerUser@10'].values()\n",
    "        metrics['hitrate'] = HitRate(topk=10, query_column='user_id', mode=PerUser, rating_column='prediction')(Origin_data, get_last_item(True_data))['HitRate-PerUser@10'].values()\n",
    "        metrics.to_csv(PATH_METRICS_BY_USER + f'{model}_{data_name}_origin.csv', index=False)\n",
    "\n"
   ]
  },
  {
   "cell_type": "code",
   "execution_count": 9,
   "metadata": {},
   "outputs": [],
   "source": [
    "TASK_ID = ['TASK_ID',\n",
    "           'TASK_ID',\n",
    "           'TASK_ID',\n",
    "           'TASK_ID',\n",
    "          ]"
   ]
  },
  {
   "cell_type": "code",
   "execution_count": 10,
   "metadata": {},
   "outputs": [],
   "source": [
    "get_user_metrics(TASK_ID)"
   ]
  }
 ],
 "metadata": {
  "kernelspec": {
   "display_name": "py39",
   "language": "python",
   "name": "python3"
  },
  "language_info": {
   "codemirror_mode": {
    "name": "ipython",
    "version": 3
   },
   "file_extension": ".py",
   "mimetype": "text/x-python",
   "name": "python",
   "nbconvert_exporter": "python",
   "pygments_lexer": "ipython3",
   "version": "3.9.19"
  },
  "orig_nbformat": 4
 },
 "nbformat": 4,
 "nbformat_minor": 2
}
