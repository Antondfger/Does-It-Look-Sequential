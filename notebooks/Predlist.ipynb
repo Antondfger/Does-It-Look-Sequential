{
 "cells": [
  {
   "cell_type": "code",
   "execution_count": 14,
   "metadata": {},
   "outputs": [],
   "source": [
    "import sys\n",
    "sys.path.append('../')\n",
    "\n",
    "import pandas as pd\n",
    "from clearml import Task\n",
    "import numpy as np\n",
    "import pandas as pd\n",
    "from clearml import Task\n",
    "import numpy as np\n",
    "from stats.jaccard import jaccard_similarity\n",
    "from replay.metrics import NDCG\n",
    "from replay.metrics import Median, ConfidenceInterval, PerUser"
   ]
  },
  {
   "cell_type": "code",
   "execution_count": 4,
   "metadata": {},
   "outputs": [],
   "source": [
    "from metrics.recommenders.evaluation.python_evaluation import ndcg_at_k"
   ]
  },
  {
   "cell_type": "code",
   "execution_count": 5,
   "metadata": {},
   "outputs": [],
   "source": [
    "def get_last_item(data, user_id='user_id', item_id='item_id', timestamp='timestamp'):\n",
    "    \"\"\"Get last item from each user sequence.\"\"\"\n",
    "\n",
    "    data.sort_values([user_id, timestamp], inplace=True)\n",
    "    data_last = data.groupby(user_id)[item_id].agg(list).apply(lambda x: x[-1]).reset_index()\n",
    "\n",
    "    return data_last"
   ]
  },
  {
   "cell_type": "code",
   "execution_count": 6,
   "metadata": {},
   "outputs": [],
   "source": [
    "Sports_true = pd.read_csv('/home/recsys_data/split_data/test_Sports.csv')\n",
    "Sports_shuffle = pd.read_csv(Task.get_task(task_id='b56d7be39e9d4f929d9fe4cab63f70de').artifacts['shuffle_pred.csv'].get_local_copy())\n",
    "Sports_origin = pd.read_csv(Task.get_task(task_id='b56d7be39e9d4f929d9fe4cab63f70de').artifacts['test_pred.csv'].get_local_copy())"
   ]
  },
  {
   "cell_type": "code",
   "execution_count": 7,
   "metadata": {},
   "outputs": [],
   "source": [
    "ndcg_at_k(get_last_item(Sports_true).assign(rating=1), Sports_shuffle, col_user=\"user_id\", col_item=\"item_id\", col_rating='rating', k=10)"
   ]
  },
  {
   "cell_type": "code",
   "execution_count": 11,
   "metadata": {},
   "outputs": [
    {
     "data": {
      "text/html": [
       "<div>\n",
       "<style scoped>\n",
       "    .dataframe tbody tr th:only-of-type {\n",
       "        vertical-align: middle;\n",
       "    }\n",
       "\n",
       "    .dataframe tbody tr th {\n",
       "        vertical-align: top;\n",
       "    }\n",
       "\n",
       "    .dataframe thead th {\n",
       "        text-align: right;\n",
       "    }\n",
       "</style>\n",
       "<table border=\"1\" class=\"dataframe\">\n",
       "  <thead>\n",
       "    <tr style=\"text-align: right;\">\n",
       "      <th></th>\n",
       "      <th>Unnamed: 0</th>\n",
       "      <th>user_id</th>\n",
       "      <th>item_id</th>\n",
       "      <th>prediction</th>\n",
       "    </tr>\n",
       "  </thead>\n",
       "  <tbody>\n",
       "    <tr>\n",
       "      <th>0</th>\n",
       "      <td>0</td>\n",
       "      <td>1</td>\n",
       "      <td>9735</td>\n",
       "      <td>4.870843</td>\n",
       "    </tr>\n",
       "    <tr>\n",
       "      <th>1</th>\n",
       "      <td>1</td>\n",
       "      <td>1</td>\n",
       "      <td>7568</td>\n",
       "      <td>4.853139</td>\n",
       "    </tr>\n",
       "    <tr>\n",
       "      <th>2</th>\n",
       "      <td>2</td>\n",
       "      <td>1</td>\n",
       "      <td>9254</td>\n",
       "      <td>4.852589</td>\n",
       "    </tr>\n",
       "    <tr>\n",
       "      <th>3</th>\n",
       "      <td>3</td>\n",
       "      <td>1</td>\n",
       "      <td>5200</td>\n",
       "      <td>4.505310</td>\n",
       "    </tr>\n",
       "    <tr>\n",
       "      <th>4</th>\n",
       "      <td>4</td>\n",
       "      <td>1</td>\n",
       "      <td>8166</td>\n",
       "      <td>4.464337</td>\n",
       "    </tr>\n",
       "    <tr>\n",
       "      <th>...</th>\n",
       "      <td>...</td>\n",
       "      <td>...</td>\n",
       "      <td>...</td>\n",
       "      <td>...</td>\n",
       "    </tr>\n",
       "    <tr>\n",
       "      <th>102025</th>\n",
       "      <td>102025</td>\n",
       "      <td>35591</td>\n",
       "      <td>2522</td>\n",
       "      <td>5.018752</td>\n",
       "    </tr>\n",
       "    <tr>\n",
       "      <th>102026</th>\n",
       "      <td>102026</td>\n",
       "      <td>35591</td>\n",
       "      <td>4424</td>\n",
       "      <td>4.917010</td>\n",
       "    </tr>\n",
       "    <tr>\n",
       "      <th>102027</th>\n",
       "      <td>102027</td>\n",
       "      <td>35591</td>\n",
       "      <td>7101</td>\n",
       "      <td>4.873654</td>\n",
       "    </tr>\n",
       "    <tr>\n",
       "      <th>102028</th>\n",
       "      <td>102028</td>\n",
       "      <td>35591</td>\n",
       "      <td>14212</td>\n",
       "      <td>4.790596</td>\n",
       "    </tr>\n",
       "    <tr>\n",
       "      <th>102029</th>\n",
       "      <td>102029</td>\n",
       "      <td>35591</td>\n",
       "      <td>14840</td>\n",
       "      <td>4.773453</td>\n",
       "    </tr>\n",
       "  </tbody>\n",
       "</table>\n",
       "<p>102030 rows × 4 columns</p>\n",
       "</div>"
      ],
      "text/plain": [
       "        Unnamed: 0  user_id  item_id  prediction\n",
       "0                0        1     9735    4.870843\n",
       "1                1        1     7568    4.853139\n",
       "2                2        1     9254    4.852589\n",
       "3                3        1     5200    4.505310\n",
       "4                4        1     8166    4.464337\n",
       "...            ...      ...      ...         ...\n",
       "102025      102025    35591     2522    5.018752\n",
       "102026      102026    35591     4424    4.917010\n",
       "102027      102027    35591     7101    4.873654\n",
       "102028      102028    35591    14212    4.790596\n",
       "102029      102029    35591    14840    4.773453\n",
       "\n",
       "[102030 rows x 4 columns]"
      ]
     },
     "execution_count": 11,
     "metadata": {},
     "output_type": "execute_result"
    }
   ],
   "source": [
    "Sports_origin"
   ]
  },
  {
   "cell_type": "code",
   "execution_count": 15,
   "metadata": {},
   "outputs": [
    {
     "ename": "KeyError",
     "evalue": "'prediction'",
     "output_type": "error",
     "traceback": [
      "\u001b[0;31m---------------------------------------------------------------------------\u001b[0m",
      "\u001b[0;31mKeyError\u001b[0m                                  Traceback (most recent call last)",
      "\u001b[0;32m/tmp/ipykernel_28084/546557941.py\u001b[0m in \u001b[0;36m?\u001b[0;34m()\u001b[0m\n\u001b[0;32m----> 1\u001b[0;31m \u001b[0mNDCG\u001b[0m\u001b[0;34m(\u001b[0m\u001b[0mtopk\u001b[0m\u001b[0;34m=\u001b[0m\u001b[0;36m10\u001b[0m\u001b[0;34m,\u001b[0m \u001b[0mmode\u001b[0m\u001b[0;34m=\u001b[0m\u001b[0mPerUser\u001b[0m\u001b[0;34m(\u001b[0m\u001b[0;34m)\u001b[0m\u001b[0;34m,\u001b[0m \u001b[0mquery_column\u001b[0m\u001b[0;34m=\u001b[0m\u001b[0;34m'user_id'\u001b[0m\u001b[0;34m,\u001b[0m \u001b[0mrating_column\u001b[0m\u001b[0;34m=\u001b[0m\u001b[0;34m'prediction'\u001b[0m\u001b[0;34m)\u001b[0m\u001b[0;34m(\u001b[0m\u001b[0mSports_true\u001b[0m\u001b[0;34m,\u001b[0m \u001b[0mSports_origin\u001b[0m\u001b[0;34m)\u001b[0m\u001b[0;34m\u001b[0m\u001b[0;34m\u001b[0m\u001b[0m\n\u001b[0m",
      "\u001b[0;32m~/anaconda3/envs/py39/lib/python3.9/site-packages/replay/metrics/base_metric.py\u001b[0m in \u001b[0;36m?\u001b[0;34m(self, recommendations, ground_truth)\u001b[0m\n\u001b[1;32m    129\u001b[0m             \u001b[0;32massert\u001b[0m \u001b[0misinstance\u001b[0m\u001b[0;34m(\u001b[0m\u001b[0mground_truth\u001b[0m\u001b[0;34m,\u001b[0m \u001b[0mPolarsDataFrame\u001b[0m\u001b[0;34m)\u001b[0m\u001b[0;34m\u001b[0m\u001b[0;34m\u001b[0m\u001b[0m\n\u001b[1;32m    130\u001b[0m             \u001b[0;32mreturn\u001b[0m \u001b[0mself\u001b[0m\u001b[0;34m.\u001b[0m\u001b[0m_polars_call\u001b[0m\u001b[0;34m(\u001b[0m\u001b[0mrecommendations\u001b[0m\u001b[0;34m,\u001b[0m \u001b[0mground_truth\u001b[0m\u001b[0;34m)\u001b[0m\u001b[0;34m\u001b[0m\u001b[0;34m\u001b[0m\u001b[0m\n\u001b[1;32m    131\u001b[0m         \u001b[0mis_pandas\u001b[0m \u001b[0;34m=\u001b[0m \u001b[0misinstance\u001b[0m\u001b[0;34m(\u001b[0m\u001b[0mrecommendations\u001b[0m\u001b[0;34m,\u001b[0m \u001b[0mPandasDataFrame\u001b[0m\u001b[0;34m)\u001b[0m\u001b[0;34m\u001b[0m\u001b[0;34m\u001b[0m\u001b[0m\n\u001b[1;32m    132\u001b[0m         recommendations = (\n\u001b[0;32m--> 133\u001b[0;31m             \u001b[0mself\u001b[0m\u001b[0;34m.\u001b[0m\u001b[0m_convert_pandas_to_dict_with_score\u001b[0m\u001b[0;34m(\u001b[0m\u001b[0mrecommendations\u001b[0m\u001b[0;34m)\u001b[0m\u001b[0;34m\u001b[0m\u001b[0;34m\u001b[0m\u001b[0m\n\u001b[0m\u001b[1;32m    134\u001b[0m             \u001b[0;32mif\u001b[0m \u001b[0mis_pandas\u001b[0m\u001b[0;34m\u001b[0m\u001b[0;34m\u001b[0m\u001b[0m\n\u001b[1;32m    135\u001b[0m             \u001b[0;32melse\u001b[0m \u001b[0mself\u001b[0m\u001b[0;34m.\u001b[0m\u001b[0m_convert_dict_to_dict_with_score\u001b[0m\u001b[0;34m(\u001b[0m\u001b[0mrecommendations\u001b[0m\u001b[0;34m)\u001b[0m\u001b[0;34m\u001b[0m\u001b[0;34m\u001b[0m\u001b[0m\n\u001b[1;32m    136\u001b[0m         )\n",
      "\u001b[0;32m~/anaconda3/envs/py39/lib/python3.9/site-packages/replay/metrics/base_metric.py\u001b[0m in \u001b[0;36m?\u001b[0;34m(self, data)\u001b[0m\n\u001b[1;32m    146\u001b[0m     \u001b[0;32mdef\u001b[0m \u001b[0m_convert_pandas_to_dict_with_score\u001b[0m\u001b[0;34m(\u001b[0m\u001b[0mself\u001b[0m\u001b[0;34m,\u001b[0m \u001b[0mdata\u001b[0m\u001b[0;34m:\u001b[0m \u001b[0mPandasDataFrame\u001b[0m\u001b[0;34m)\u001b[0m \u001b[0;34m->\u001b[0m \u001b[0mDict\u001b[0m\u001b[0;34m:\u001b[0m\u001b[0;34m\u001b[0m\u001b[0;34m\u001b[0m\u001b[0m\n\u001b[1;32m    147\u001b[0m         return (\n\u001b[0;32m--> 148\u001b[0;31m             \u001b[0mdata\u001b[0m\u001b[0;34m.\u001b[0m\u001b[0msort_values\u001b[0m\u001b[0;34m(\u001b[0m\u001b[0mby\u001b[0m\u001b[0;34m=\u001b[0m\u001b[0mself\u001b[0m\u001b[0;34m.\u001b[0m\u001b[0mrating_column\u001b[0m\u001b[0;34m,\u001b[0m \u001b[0mascending\u001b[0m\u001b[0;34m=\u001b[0m\u001b[0;32mFalse\u001b[0m\u001b[0;34m)\u001b[0m\u001b[0;34m\u001b[0m\u001b[0;34m\u001b[0m\u001b[0m\n\u001b[0m\u001b[1;32m    149\u001b[0m             \u001b[0;34m.\u001b[0m\u001b[0mgroupby\u001b[0m\u001b[0;34m(\u001b[0m\u001b[0mself\u001b[0m\u001b[0;34m.\u001b[0m\u001b[0mquery_column\u001b[0m\u001b[0;34m)\u001b[0m\u001b[0;34m[\u001b[0m\u001b[0mself\u001b[0m\u001b[0;34m.\u001b[0m\u001b[0mitem_column\u001b[0m\u001b[0;34m]\u001b[0m\u001b[0;34m\u001b[0m\u001b[0;34m\u001b[0m\u001b[0m\n\u001b[1;32m    150\u001b[0m             \u001b[0;34m.\u001b[0m\u001b[0mapply\u001b[0m\u001b[0;34m(\u001b[0m\u001b[0mlist\u001b[0m\u001b[0;34m)\u001b[0m\u001b[0;34m\u001b[0m\u001b[0;34m\u001b[0m\u001b[0m\n\u001b[1;32m    151\u001b[0m             \u001b[0;34m.\u001b[0m\u001b[0mto_dict\u001b[0m\u001b[0;34m(\u001b[0m\u001b[0;34m)\u001b[0m\u001b[0;34m\u001b[0m\u001b[0;34m\u001b[0m\u001b[0m\n",
      "\u001b[0;32m~/anaconda3/envs/py39/lib/python3.9/site-packages/pandas/util/_decorators.py\u001b[0m in \u001b[0;36m?\u001b[0;34m(*args, **kwargs)\u001b[0m\n\u001b[1;32m    327\u001b[0m                     \u001b[0mmsg\u001b[0m\u001b[0;34m.\u001b[0m\u001b[0mformat\u001b[0m\u001b[0;34m(\u001b[0m\u001b[0marguments\u001b[0m\u001b[0;34m=\u001b[0m\u001b[0m_format_argument_list\u001b[0m\u001b[0;34m(\u001b[0m\u001b[0mallow_args\u001b[0m\u001b[0;34m)\u001b[0m\u001b[0;34m)\u001b[0m\u001b[0;34m,\u001b[0m\u001b[0;34m\u001b[0m\u001b[0;34m\u001b[0m\u001b[0m\n\u001b[1;32m    328\u001b[0m                     \u001b[0mFutureWarning\u001b[0m\u001b[0;34m,\u001b[0m\u001b[0;34m\u001b[0m\u001b[0;34m\u001b[0m\u001b[0m\n\u001b[1;32m    329\u001b[0m                     \u001b[0mstacklevel\u001b[0m\u001b[0;34m=\u001b[0m\u001b[0mfind_stack_level\u001b[0m\u001b[0;34m(\u001b[0m\u001b[0;34m)\u001b[0m\u001b[0;34m,\u001b[0m\u001b[0;34m\u001b[0m\u001b[0;34m\u001b[0m\u001b[0m\n\u001b[1;32m    330\u001b[0m                 )\n\u001b[0;32m--> 331\u001b[0;31m             \u001b[0;32mreturn\u001b[0m \u001b[0mfunc\u001b[0m\u001b[0;34m(\u001b[0m\u001b[0;34m*\u001b[0m\u001b[0margs\u001b[0m\u001b[0;34m,\u001b[0m \u001b[0;34m**\u001b[0m\u001b[0mkwargs\u001b[0m\u001b[0;34m)\u001b[0m\u001b[0;34m\u001b[0m\u001b[0;34m\u001b[0m\u001b[0m\n\u001b[0m",
      "\u001b[0;32m~/anaconda3/envs/py39/lib/python3.9/site-packages/pandas/core/frame.py\u001b[0m in \u001b[0;36m?\u001b[0;34m(self, by, axis, ascending, inplace, kind, na_position, ignore_index, key)\u001b[0m\n\u001b[1;32m   6908\u001b[0m         \u001b[0;32melif\u001b[0m \u001b[0mlen\u001b[0m\u001b[0;34m(\u001b[0m\u001b[0mby\u001b[0m\u001b[0;34m)\u001b[0m\u001b[0;34m:\u001b[0m\u001b[0;34m\u001b[0m\u001b[0;34m\u001b[0m\u001b[0m\n\u001b[1;32m   6909\u001b[0m             \u001b[0;31m# len(by) == 1\u001b[0m\u001b[0;34m\u001b[0m\u001b[0;34m\u001b[0m\u001b[0m\n\u001b[1;32m   6910\u001b[0m \u001b[0;34m\u001b[0m\u001b[0m\n\u001b[1;32m   6911\u001b[0m             \u001b[0mby\u001b[0m \u001b[0;34m=\u001b[0m \u001b[0mby\u001b[0m\u001b[0;34m[\u001b[0m\u001b[0;36m0\u001b[0m\u001b[0;34m]\u001b[0m\u001b[0;34m\u001b[0m\u001b[0;34m\u001b[0m\u001b[0m\n\u001b[0;32m-> 6912\u001b[0;31m             \u001b[0mk\u001b[0m \u001b[0;34m=\u001b[0m \u001b[0mself\u001b[0m\u001b[0;34m.\u001b[0m\u001b[0m_get_label_or_level_values\u001b[0m\u001b[0;34m(\u001b[0m\u001b[0mby\u001b[0m\u001b[0;34m,\u001b[0m \u001b[0maxis\u001b[0m\u001b[0;34m=\u001b[0m\u001b[0maxis\u001b[0m\u001b[0;34m)\u001b[0m\u001b[0;34m\u001b[0m\u001b[0;34m\u001b[0m\u001b[0m\n\u001b[0m\u001b[1;32m   6913\u001b[0m \u001b[0;34m\u001b[0m\u001b[0m\n\u001b[1;32m   6914\u001b[0m             \u001b[0;31m# need to rewrap column in Series to apply key function\u001b[0m\u001b[0;34m\u001b[0m\u001b[0;34m\u001b[0m\u001b[0m\n\u001b[1;32m   6915\u001b[0m             \u001b[0;32mif\u001b[0m \u001b[0mkey\u001b[0m \u001b[0;32mis\u001b[0m \u001b[0;32mnot\u001b[0m \u001b[0;32mNone\u001b[0m\u001b[0;34m:\u001b[0m\u001b[0;34m\u001b[0m\u001b[0;34m\u001b[0m\u001b[0m\n",
      "\u001b[0;32m~/anaconda3/envs/py39/lib/python3.9/site-packages/pandas/core/generic.py\u001b[0m in \u001b[0;36m?\u001b[0;34m(self, key, axis)\u001b[0m\n\u001b[1;32m   1846\u001b[0m                 \u001b[0;34m.\u001b[0m\u001b[0mget_level_values\u001b[0m\u001b[0;34m(\u001b[0m\u001b[0mkey\u001b[0m\u001b[0;34m)\u001b[0m  \u001b[0;31m# type: ignore[assignment]\u001b[0m\u001b[0;34m\u001b[0m\u001b[0;34m\u001b[0m\u001b[0m\n\u001b[1;32m   1847\u001b[0m                 \u001b[0;34m.\u001b[0m\u001b[0m_values\u001b[0m\u001b[0;34m\u001b[0m\u001b[0;34m\u001b[0m\u001b[0m\n\u001b[1;32m   1848\u001b[0m             )\n\u001b[1;32m   1849\u001b[0m         \u001b[0;32melse\u001b[0m\u001b[0;34m:\u001b[0m\u001b[0;34m\u001b[0m\u001b[0;34m\u001b[0m\u001b[0m\n\u001b[0;32m-> 1850\u001b[0;31m             \u001b[0;32mraise\u001b[0m \u001b[0mKeyError\u001b[0m\u001b[0;34m(\u001b[0m\u001b[0mkey\u001b[0m\u001b[0;34m)\u001b[0m\u001b[0;34m\u001b[0m\u001b[0;34m\u001b[0m\u001b[0m\n\u001b[0m\u001b[1;32m   1851\u001b[0m \u001b[0;34m\u001b[0m\u001b[0m\n\u001b[1;32m   1852\u001b[0m         \u001b[0;31m# Check for duplicates\u001b[0m\u001b[0;34m\u001b[0m\u001b[0;34m\u001b[0m\u001b[0m\n\u001b[1;32m   1853\u001b[0m         \u001b[0;32mif\u001b[0m \u001b[0mvalues\u001b[0m\u001b[0;34m.\u001b[0m\u001b[0mndim\u001b[0m \u001b[0;34m>\u001b[0m \u001b[0;36m1\u001b[0m\u001b[0;34m:\u001b[0m\u001b[0;34m\u001b[0m\u001b[0;34m\u001b[0m\u001b[0m\n",
      "\u001b[0;31mKeyError\u001b[0m: 'prediction'"
     ]
    }
   ],
   "source": [
    "NDCG(topk=10, mode=PerUser(), query_column='user_id', rating_column='prediction')(Sports_true, Sports_origin)"
   ]
  },
  {
   "cell_type": "code",
   "execution_count": null,
   "metadata": {},
   "outputs": [],
   "source": [
    "ndcg_at_k(get_last_item(Sports_true).assign(rating=1), Sports_origin, col_user=\"user_id\", col_item=\"item_id\", col_rating='rating', k=10)"
   ]
  },
  {
   "cell_type": "code",
   "execution_count": 10,
   "metadata": {},
   "outputs": [],
   "source": [
    "Foursquare_true = pd.read_csv('/home/recsys_data/split_data/test_Foursquare.csv')\n",
    "Foursquare_shuffle = pd.read_csv(Task.get_task(task_id='73c258d8c4a54e10aefa81f748fa631a').artifacts['shuffle_pred.csv'].get_local_copy())\n",
    "Foursquare_origin = pd.read_csv(Task.get_task(task_id='73c258d8c4a54e10aefa81f748fa631a').artifacts['test_pred.csv'].get_local_copy())"
   ]
  },
  {
   "cell_type": "code",
   "execution_count": 12,
   "metadata": {},
   "outputs": [],
   "source": [
    "ndcg_at_k(get_last_item(Foursquare_true).assign(rating=1), Foursquare_shuffle, col_user=\"user_id\", col_item=\"item_id\", col_rating='rating', k=10).to_csv('ndcg_Foursquare_shuffle.csv')\n",
    "ndcg_at_k(get_last_item(Foursquare_true).assign(rating=1), Foursquare_origin, col_user=\"user_id\", col_item=\"item_id\", col_rating='rating', k=10).to_csv('ndcg_Foursquare_origin.csv')"
   ]
  },
  {
   "cell_type": "code",
   "execution_count": 15,
   "metadata": {},
   "outputs": [],
   "source": [
    "Diginetica_true = pd.read_csv('/home/recsys_data/split_data/test_Diginetica.csv')\n",
    "Diginetica_shuffle = pd.read_csv(Task.get_task(task_id='9bb86d1a7ba6426eac6738f7c3ed9a59').artifacts['shuffle_pred.csv'].get_local_copy())\n",
    "Diginetica_origin = pd.read_csv(Task.get_task(task_id='9bb86d1a7ba6426eac6738f7c3ed9a59').artifacts['test_pred.csv'].get_local_copy())"
   ]
  },
  {
   "cell_type": "code",
   "execution_count": 16,
   "metadata": {},
   "outputs": [],
   "source": [
    "ndcg_at_k(get_last_item(Diginetica_true).assign(rating=1), Diginetica_shuffle, col_user=\"user_id\", col_item=\"item_id\", col_rating='rating', k=10).to_csv('ndcg_Diginetica_shuffle.csv')\n",
    "ndcg_at_k(get_last_item(Diginetica_true).assign(rating=1), Diginetica_origin, col_user=\"user_id\", col_item=\"item_id\", col_rating='rating', k=10).to_csv('ndcg_Diginetica_origin.csv')"
   ]
  },
  {
   "cell_type": "code",
   "execution_count": 18,
   "metadata": {},
   "outputs": [],
   "source": [
    "Yelp_true = pd.read_csv('/home/recsys_data/split_data/test_Yelp.csv')\n",
    "Yelp_shuffle = pd.read_csv(Task.get_task(task_id='758e0e9b9d6045d48893555b810589d1').artifacts['shuffle_pred.csv'].get_local_copy())\n",
    "Yelp_origin = pd.read_csv(Task.get_task(task_id='758e0e9b9d6045d48893555b810589d1').artifacts['test_pred.csv'].get_local_copy())"
   ]
  },
  {
   "cell_type": "code",
   "execution_count": 19,
   "metadata": {},
   "outputs": [],
   "source": [
    "ndcg_at_k(get_last_item(Yelp_true).assign(rating=1), Yelp_shuffle, col_user=\"user_id\", col_item=\"item_id\", col_rating='rating', k=10).to_csv('ndcg_Yelp_shuffle.csv')\n",
    "ndcg_at_k(get_last_item(Yelp_true).assign(rating=1), Yelp_origin, col_user=\"user_id\", col_item=\"item_id\", col_rating='rating', k=10).to_csv('ndcg_Yelp_origin.csv')"
   ]
  },
  {
   "cell_type": "code",
   "execution_count": 20,
   "metadata": {},
   "outputs": [],
   "source": [
    "Steam_true = pd.read_csv('/home/recsys_data/split_data/test_Steam.csv')\n",
    "Steam_shuffle = pd.read_csv(Task.get_task(task_id='5e295f331eb7436bae1131355644b670').artifacts['shuffle_pred.csv'].get_local_copy())\n",
    "Steam_origin = pd.read_csv(Task.get_task(task_id='5e295f331eb7436bae1131355644b670').artifacts['test_pred.csv'].get_local_copy())"
   ]
  },
  {
   "cell_type": "code",
   "execution_count": 21,
   "metadata": {},
   "outputs": [],
   "source": [
    "ndcg_at_k(get_last_item(Steam_true).assign(rating=1), Steam_shuffle, col_user=\"user_id\", col_item=\"item_id\", col_rating='rating', k=10).to_csv('ndcg_Steam_shuffle.csv')\n",
    "ndcg_at_k(get_last_item(Steam_true).assign(rating=1), Steam_origin, col_user=\"user_id\", col_item=\"item_id\", col_rating='rating', k=10).to_csv('ndcg_Steam_origin.csv')"
   ]
  },
  {
   "cell_type": "code",
   "execution_count": 22,
   "metadata": {},
   "outputs": [],
   "source": [
    "Yoochoose_true = pd.read_csv('/home/recsys_data/split_data/test_Yoochoose.csv')\n",
    "Yoochoose_shuffle = pd.read_csv(Task.get_task(task_id='97687d5fd64f4a63a91a2ffb3d136829').artifacts['shuffle_pred.csv'].get_local_copy())\n",
    "Yoochoose_origin = pd.read_csv(Task.get_task(task_id='97687d5fd64f4a63a91a2ffb3d136829').artifacts['test_pred.csv'].get_local_copy())"
   ]
  },
  {
   "cell_type": "code",
   "execution_count": 23,
   "metadata": {},
   "outputs": [],
   "source": [
    "ndcg_at_k(get_last_item(Yoochoose_true).assign(rating=1), Yoochoose_shuffle, col_user=\"user_id\", col_item=\"item_id\", col_rating='rating', k=10).to_csv('ndcg_Yoochoose_shuffle.csv')\n",
    "ndcg_at_k(get_last_item(Yoochoose_true).assign(rating=1), Yoochoose_origin, col_user=\"user_id\", col_item=\"item_id\", col_rating='rating', k=10).to_csv('ndcg_Yoochoose_origin.csv')"
   ]
  },
  {
   "cell_type": "code",
   "execution_count": 24,
   "metadata": {},
   "outputs": [],
   "source": [
    "Games_true = pd.read_csv('/home/recsys_data/split_data/test_Games.csv')\n",
    "Games_shuffle = pd.read_csv(Task.get_task(task_id='20b9ea6be0664807a96110527fdf72b0').artifacts['shuffle_pred.csv'].get_local_copy())\n",
    "Games_origin = pd.read_csv(Task.get_task(task_id='20b9ea6be0664807a96110527fdf72b0').artifacts['test_pred.csv'].get_local_copy())"
   ]
  },
  {
   "cell_type": "code",
   "execution_count": 25,
   "metadata": {},
   "outputs": [],
   "source": [
    "ndcg_at_k(get_last_item(Games_true).assign(rating=1), Games_shuffle, col_user=\"user_id\", col_item=\"item_id\", col_rating='rating', k=10).to_csv('ndcg_Games_shuffle.csv')\n",
    "ndcg_at_k(get_last_item(Games_true).assign(rating=1), Games_origin, col_user=\"user_id\", col_item=\"item_id\", col_rating='rating', k=10).to_csv('ndcg_Games_origin.csv')"
   ]
  },
  {
   "cell_type": "code",
   "execution_count": 26,
   "metadata": {},
   "outputs": [],
   "source": [
    "Beauty_true = pd.read_csv('/home/recsys_data/split_data/test_Beauty.csv')\n",
    "Beauty_shuffle = pd.read_csv(Task.get_task(task_id='5ee56b42c1b144e5acf04d355e59c37d').artifacts['shuffle_pred.csv'].get_local_copy())\n",
    "Beauty_origin = pd.read_csv(Task.get_task(task_id='5ee56b42c1b144e5acf04d355e59c37d').artifacts['test_pred.csv'].get_local_copy())"
   ]
  },
  {
   "cell_type": "code",
   "execution_count": 27,
   "metadata": {},
   "outputs": [],
   "source": [
    "ndcg_at_k(get_last_item(Beauty_true).assign(rating=1), Beauty_shuffle, col_user=\"user_id\", col_item=\"item_id\", col_rating='rating', k=10).to_csv('ndcg_Beauty_shuffle.csv')\n",
    "ndcg_at_k(get_last_item(Beauty_true).assign(rating=1), Beauty_origin, col_user=\"user_id\", col_item=\"item_id\", col_rating='rating', k=10).to_csv('ndcg_Beauty_origin.csv')"
   ]
  },
  {
   "cell_type": "code",
   "execution_count": 39,
   "metadata": {},
   "outputs": [],
   "source": [
    "Movielens_true = pd.read_csv('/home/recsys_data/split_data/test_Movielens-20.csv')\n",
    "Movielensy_shuffle = pd.read_csv(Task.get_task(task_id='66da7f56da8e434584539b13e63c1232').artifacts['shuffle_pred.csv'].get_local_copy())\n",
    "Movielens_origin = pd.read_csv(Task.get_task(task_id='66da7f56da8e434584539b13e63c1232').artifacts['test_pred.csv'].get_local_copy())"
   ]
  },
  {
   "cell_type": "code",
   "execution_count": 40,
   "metadata": {},
   "outputs": [],
   "source": [
    "ndcg_at_k(get_last_item(Movielens_true).assign(rating=1), Movielensy_shuffle, col_user=\"user_id\", col_item=\"item_id\", col_rating='rating', k=10).to_csv('ndcg_Movielensy_shuffle.csv')\n",
    "ndcg_at_k(get_last_item(Movielens_true).assign(rating=1), Movielens_origin, col_user=\"user_id\", col_item=\"item_id\", col_rating='rating', k=10).to_csv('ndcg_Movielens_origin.csv')"
   ]
  },
  {
   "cell_type": "code",
   "execution_count": 41,
   "metadata": {},
   "outputs": [],
   "source": [
    "Gowalla_true = pd.read_csv('/home/recsys_data/split_data/test_Gowalla.csv')\n",
    "Gowalla_shuffle = pd.read_csv(Task.get_task(task_id='9fc8f169d1a4403f936885971174cb7c').artifacts['shuffle_pred.csv'].get_local_copy())\n",
    "Gowalla_origin = pd.read_csv(Task.get_task(task_id='9fc8f169d1a4403f936885971174cb7c').artifacts['test_pred.csv'].get_local_copy())"
   ]
  },
  {
   "cell_type": "code",
   "execution_count": 42,
   "metadata": {},
   "outputs": [],
   "source": [
    "ndcg_at_k(get_last_item(Gowalla_true).assign(rating=1), Gowalla_shuffle, col_user=\"user_id\", col_item=\"item_id\", col_rating='rating', k=10).to_csv('ndcgGowalla_shuffle.csv')\n",
    "ndcg_at_k(get_last_item(Gowalla_true).assign(rating=1), Gowalla_origin, col_user=\"user_id\", col_item=\"item_id\", col_rating='rating', k=10).to_csv('ndcg_Gowalla_origin.csv')"
   ]
  },
  {
   "cell_type": "code",
   "execution_count": 43,
   "metadata": {},
   "outputs": [],
   "source": [
    "Retailrocket_true = pd.read_csv('/home/recsys_data/split_data/test_Retailrocket.csv')\n",
    "Retailrocket_shuffle = pd.read_csv(Task.get_task(task_id='ebbd2fe29c8a455f86d6fa757926a3e9').artifacts['shuffle_pred.csv'].get_local_copy())\n",
    "Retailrocket_origin = pd.read_csv(Task.get_task(task_id='ebbd2fe29c8a455f86d6fa757926a3e9').artifacts['test_pred.csv'].get_local_copy())"
   ]
  },
  {
   "cell_type": "code",
   "execution_count": 44,
   "metadata": {},
   "outputs": [],
   "source": [
    "ndcg_at_k(get_last_item(Retailrocket_true).assign(rating=1), Retailrocket_shuffle, col_user=\"user_id\", col_item=\"item_id\", col_rating='rating', k=10).to_csv('ndcg_Retailrocket_shuffle.csv')\n",
    "ndcg_at_k(get_last_item(Retailrocket_true).assign(rating=1), Retailrocket_origin, col_user=\"user_id\", col_item=\"item_id\", col_rating='rating', k=10).to_csv('ndcg_Retailrocket_origin.csv')"
   ]
  },
  {
   "cell_type": "code",
   "execution_count": 6,
   "metadata": {},
   "outputs": [
    {
     "name": "stdout",
     "output_type": "stream",
     "text": [
      "2024-07-02 07:18:25,403 - clearml.storage - INFO - Downloading: 10.00MB from http://localhost:8081/sequential_datasets/gru4rec/Smm/experiments.c564599eaea74208ab2505e171c6e5d4/artifacts/shuffle_pred.csv/shuffle_pred.csv.csv.gz\n"
     ]
    },
    {
     "name": "stderr",
     "output_type": "stream",
     "text": [
      "                                               0% | 0/10.0 MB [00:00<?, ?MB/s]: /home/apembek/anaconda3/envs/py39/lib/python3.9/site-packages/tqdm/std.py:636: TqdmWarning: clamping frac to range [0, 1]\n",
      "  full_bar = Bar(frac,\n",
      "████████████████████ 100% | 10.0013427734375/10.0 MB [00:00<00:00, 586.13MB/s]: "
     ]
    },
    {
     "name": "stdout",
     "output_type": "stream",
     "text": [
      "2024-07-02 07:18:25,424 - clearml.storage - INFO - Downloaded 10.00 MB successfully from http://localhost:8081/sequential_datasets/gru4rec/Smm/experiments.c564599eaea74208ab2505e171c6e5d4/artifacts/shuffle_pred.csv/shuffle_pred.csv.csv.gz , saved to /home/apembek/.clearml/cache/storage_manager/global/025a1e41d91dcb49b49b3fc33b0159dc.shuffle_pred.csv.csv.gz\n"
     ]
    },
    {
     "name": "stderr",
     "output_type": "stream",
     "text": [
      "\n"
     ]
    },
    {
     "name": "stdout",
     "output_type": "stream",
     "text": [
      "2024-07-02 07:18:25,901 - clearml.storage - INFO - Downloading: 10.00MB from http://localhost:8081/sequential_datasets/gru4rec/Smm/experiments.c564599eaea74208ab2505e171c6e5d4/artifacts/test_pred.csv/test_pred.csv.csv.gz\n"
     ]
    },
    {
     "name": "stderr",
     "output_type": "stream",
     "text": [
      "                                               0% | 0/10.0 MB [00:00<?, ?MB/s]: /home/apembek/anaconda3/envs/py39/lib/python3.9/site-packages/tqdm/std.py:636: TqdmWarning: clamping frac to range [0, 1]\n",
      "  full_bar = Bar(frac,\n",
      "█████████████████ 100% | 10.004993438720703/10.0 MB [00:00<00:00, 1020.72MB/s]: "
     ]
    },
    {
     "name": "stdout",
     "output_type": "stream",
     "text": [
      "2024-07-02 07:18:25,914 - clearml.storage - INFO - Downloaded 10.00 MB successfully from http://localhost:8081/sequential_datasets/gru4rec/Smm/experiments.c564599eaea74208ab2505e171c6e5d4/artifacts/test_pred.csv/test_pred.csv.csv.gz , saved to /home/apembek/.clearml/cache/storage_manager/global/393e2b1d96ed5d758f1cde57716eca9f.test_pred.csv.csv.gz\n"
     ]
    },
    {
     "name": "stderr",
     "output_type": "stream",
     "text": [
      "\n"
     ]
    }
   ],
   "source": [
    "SMM_true = pd.read_csv('/home/recsys_data/split_data/test_Smm.csv')\n",
    "SMM_shuffle = pd.read_csv(Task.get_task(task_id='c564599eaea74208ab2505e171c6e5d4').artifacts['shuffle_pred.csv'].get_local_copy())\n",
    "SMM_origin = pd.read_csv(Task.get_task(task_id='c564599eaea74208ab2505e171c6e5d4').artifacts['test_pred.csv'].get_local_copy())"
   ]
  },
  {
   "cell_type": "code",
   "execution_count": 7,
   "metadata": {},
   "outputs": [],
   "source": [
    "ndcg_at_k(get_last_item(SMM_true).assign(rating=1), SMM_shuffle, col_user=\"user_id\", col_item=\"item_id\", col_rating='rating', k=10).to_csv('ndcg_SMM_shuffle.csv')\n",
    "ndcg_at_k(get_last_item(SMM_true).assign(rating=1), SMM_origin, col_user=\"user_id\", col_item=\"item_id\", col_rating='rating', k=10).to_csv('ndcg_SMM_origin.csv')"
   ]
  },
  {
   "cell_type": "code",
   "execution_count": 8,
   "metadata": {},
   "outputs": [],
   "source": [
    "Zvuk_true = pd.read_csv('/home/recsys_data/split_data/test_Zvuk.csv')\n",
    "Zvuk_shuffle = pd.read_csv(Task.get_task(task_id='5dfd3dfaa98c4b4f9fe035b9a386d936').artifacts['shuffle_pred.csv'].get_local_copy())\n",
    "Zvuk_origin = pd.read_csv(Task.get_task(task_id='5dfd3dfaa98c4b4f9fe035b9a386d936').artifacts['test_pred.csv'].get_local_copy())"
   ]
  },
  {
   "cell_type": "code",
   "execution_count": 9,
   "metadata": {},
   "outputs": [],
   "source": [
    "ndcg_at_k(get_last_item(Zvuk_true).assign(rating=1), Zvuk_shuffle, col_user=\"user_id\", col_item=\"item_id\", col_rating='rating', k=10).to_csv('ndcg_Zvuk_shuffle.csv')\n",
    "ndcg_at_k(get_last_item(Zvuk_true).assign(rating=1), Zvuk_origin, col_user=\"user_id\", col_item=\"item_id\", col_rating='rating', k=10).to_csv('ndcg_Zvuk_origin.csv')"
   ]
  },
  {
   "cell_type": "code",
   "execution_count": 11,
   "metadata": {},
   "outputs": [],
   "source": [
    "music_true = pd.read_csv('/home/recsys_data/split_data/test_30Music.csv')\n",
    "music_shuffle = pd.read_csv(Task.get_task(task_id='82f949d9d9464d7eb48b4878af88f568').artifacts['shuffle_pred.csv'].get_local_copy())\n",
    "music_origin = pd.read_csv(Task.get_task(task_id='82f949d9d9464d7eb48b4878af88f568').artifacts['test_pred.csv'].get_local_copy())"
   ]
  },
  {
   "cell_type": "code",
   "execution_count": 12,
   "metadata": {},
   "outputs": [],
   "source": [
    "ndcg_at_k(get_last_item(music_true).assign(rating=1), music_shuffle, col_user=\"user_id\", col_item=\"item_id\", col_rating='rating', k=10).to_csv('ndcg_30music_shuffle.csv')\n",
    "ndcg_at_k(get_last_item(music_true).assign(rating=1), music_origin, col_user=\"user_id\", col_item=\"item_id\", col_rating='rating', k=10).to_csv('ndcg_30music_origin.csv')"
   ]
  },
  {
   "cell_type": "code",
   "execution_count": 7,
   "metadata": {},
   "outputs": [],
   "source": [
    "Otto_true = pd.read_csv('/home/recsys_data/split_data/test_Otto.csv')\n",
    "Otto_shuffle = pd.read_csv(Task.get_task(task_id='97aef2e7b8544dc8a21ce29c80465bbb').artifacts['shuffle_pred.csv'].get_local_copy())\n",
    "Otto_origin = pd.read_csv(Task.get_task(task_id='97aef2e7b8544dc8a21ce29c80465bbb').artifacts['test_pred.csv'].get_local_copy())"
   ]
  },
  {
   "cell_type": "code",
   "execution_count": 8,
   "metadata": {},
   "outputs": [],
   "source": [
    "ndcg_at_k(get_last_item(Otto_true).assign(rating=1), Otto_shuffle, col_user=\"user_id\", col_item=\"item_id\", col_rating='rating', k=10).to_csv('ndcg_Otto_shuffle.csv')\n",
    "ndcg_at_k(get_last_item(Otto_true).assign(rating=1), Otto_origin, col_user=\"user_id\", col_item=\"item_id\", col_rating='rating', k=10).to_csv('ndcg_Otto_origin.csv')"
   ]
  }
 ],
 "metadata": {
  "kernelspec": {
   "display_name": "py39",
   "language": "python",
   "name": "python3"
  },
  "language_info": {
   "codemirror_mode": {
    "name": "ipython",
    "version": 3
   },
   "file_extension": ".py",
   "mimetype": "text/x-python",
   "name": "python",
   "nbconvert_exporter": "python",
   "pygments_lexer": "ipython3",
   "version": "3.9.19"
  },
  "orig_nbformat": 4
 },
 "nbformat": 4,
 "nbformat_minor": 2
}
